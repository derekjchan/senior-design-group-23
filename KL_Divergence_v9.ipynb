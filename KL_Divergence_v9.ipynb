{
 "cells": [
  {
   "cell_type": "code",
   "execution_count": 4,
   "id": "0e0fcc68",
   "metadata": {},
   "outputs": [],
   "source": [
    "import os\n",
    "import pandas as pd\n",
    "import random\n",
    "import matplotlib.pyplot as plt\n",
    "import numpy as np\n",
    "import re\n",
    "from scipy.special import rel_entr\n",
    "from math import log2\n",
    "import sys"
   ]
  },
  {
   "cell_type": "code",
   "execution_count": 6,
   "id": "86f0a1ae",
   "metadata": {},
   "outputs": [],
   "source": [
    "def get_kldiv(filename):\n",
    "    \n",
    "    ## extract data\n",
    "    def hist_extract(filename, time):\n",
    "        with open(filename) as f:\n",
    "            lines = f.read().splitlines()\n",
    "            edge_weight_array = []\n",
    "            time_array = []\n",
    "        #add noise to windows, no empty bins when normalize, no 0's (called regulariztion)\n",
    "            for line in lines:\n",
    "                edge_weight_pat = \"tw: Edge From Node (\\d{3}) to Node (\\d{3}) ; Edge Speed : 0.5000000000000000000000 ; Edge Weight: ([\\d\\.-]+) ; Current Time: ([\\d\\.]+)\"\n",
    "                matches = re.search(edge_weight_pat, line)\n",
    "                if matches:\n",
    "                    #matches in order of info is extracted\n",
    "                    match_list1 = (float(matches.group(3)))\n",
    "                    match_list2 = (float(matches.group(4)))\n",
    "\n",
    "                    #adds elements from .out file to the empty list\n",
    "                    edge_weight_array.append(match_list1)\n",
    "                    time_array.append(match_list2)\n",
    "\n",
    "            #turn to array\n",
    "            ta = np.asarray(time_array)\n",
    "            edw = np.asarray(edge_weight_array)\n",
    "            # return everything above here into an array \n",
    "            #belw is secobd fuction, takes in the array data and the time you want to analyze\n",
    "\n",
    "\n",
    "            yn = pd.Series(edw[ta==0.0]) #need to find a way to get the ta equal to the first index of the time array\n",
    "            yn1 = pd.Series(edw[ta== time])#change this to get next timepoint\n",
    "            dat = yn1 - yn\n",
    "\n",
    "            yn.reset_index(inplace=True, drop=True)\n",
    "            yn1.reset_index(inplace=True, drop=True)\n",
    "\n",
    "            ta_trunc = np.trunc(ta*10**2)/(10**2)\n",
    "            x,bins,p = plt.hist(dat, density = False, range = (dat.min(), dat.max()), bins = 50) #numpy hist instead!\n",
    "\n",
    "            #add 1 to the data to take care of the 0's\n",
    "            for i in x:\n",
    "                i = i+1\n",
    "            #no need to plot histogram anymore, just need the normalized histogram values\n",
    "            norm = x/x.max()\n",
    "\n",
    "            # x is the histogram heights \n",
    "            return norm, x, ta_trunc\n",
    "   ## get time points \n",
    "    def get_times(filename):\n",
    "        with open(filename) as f:\n",
    "            lines = f.read().splitlines()\n",
    "            time_array = []\n",
    "\n",
    "        for line in lines:\n",
    "                edge_weight_pat = \"Current Time: ([\\d\\.]+)\"\n",
    "                matches = re.search(edge_weight_pat, line)\n",
    "                if matches:\n",
    "                    #matches in order of info is extracted\n",
    "                    match_list2 = (float(matches.group(1)))\n",
    "                    #adds elements from .out file to the empty list\n",
    "                    time_array.append(match_list2)\n",
    "\n",
    "        #turn to array\n",
    "        times = np.asarray(time_array)\n",
    "\n",
    "        #get list with the value of each time point\n",
    "        time_points = []\n",
    "\n",
    "        #[ 0 1 2 3]\n",
    "        for i in range(0,len(times)-1):\n",
    "            if times[i] != times[i+1]:\n",
    "                time_points.append(times[i])\n",
    "\n",
    "        # couldnt figure out error so worked around it with this line  \n",
    "        time_points.append(times[len(times)-1])\n",
    "\n",
    "\n",
    "        return times, time_points\n",
    "    \n",
    "    times, time_points = get_times(\"0.out\")\n",
    "    \n",
    "    \n",
    "    ## get norms \n",
    "    def get_norms(filename, time_points):\n",
    "        norms = []\n",
    "        for i in time_points:\n",
    "            norm, x, ta_trunc = hist_extract(\"0.out\", i)\n",
    "            norms.append(norm)\n",
    "        return norms\n",
    "\n",
    "    norms = get_norms(\"0.out\",time_points)\n",
    "    \n",
    "    \n",
    "    ## kl DIV calc\n",
    "    def kl_divergence(p,q):\n",
    "        test = 0\n",
    "        for i in range(0,21): \n",
    "            if p[i] == 0 or q[i] == 0: #get rid of this statment once due regularization \n",
    "                test = test + 0 #usually add uniform noise to take care of this \n",
    "            else:\n",
    "                test = test + p[i] * log2(p[i]/q[i])\n",
    "        return test \n",
    "    \n",
    "    def kl_div_calc(norms, time_points):\n",
    "        kl_divNorm = np.empty(20, dtype = float) #initalize array to store KL div calcs\n",
    "\n",
    "        for i in range(0,20):\n",
    "            kl_divNorm[i] = kl_divergence(norms[i], norms[i+1])\n",
    "        return kl_divNorm\n",
    "    \n",
    "    kl_divNorm = kl_div_calc(norms, time_points) \n",
    "    \n",
    "    return kl_divNorm"
   ]
  },
  {
   "cell_type": "code",
   "execution_count": 8,
   "id": "dd61acd8",
   "metadata": {},
   "outputs": [
    {
     "name": "stdout",
     "output_type": "stream",
     "text": [
      "[ 0.          0.         -0.03909326 -0.49081154  0.89943545  0.10355459\n",
      "  1.57142857 -0.14576921  1.004113    0.87034377  3.68237725  1.96498393\n",
      "  0.57142857  0.00744823 -1.86902904  5.1363527   1.04496508  1.47244506\n",
      "  1.85414638  0.07149916]\n"
     ]
    },
    {
     "data": {
      "image/png": "[encoded data removed]",
      "text/plain": [
       "<Figure size 432x288 with 1 Axes>"
      ]
     },
     "metadata": {
      "needs_background": "light"
     },
     "output_type": "display_data"
    }
   ],
   "source": [
    "klDiv = get_kldiv(\"0.out\")\n",
    "print(klDiv)"
   ]
  },
  {
   "cell_type": "code",
   "execution_count": null,
   "id": "f3e194ef",
   "metadata": {},
   "outputs": [],
   "source": [
    "#added noise and the values were all different"
   ]
  },
  {
   "cell_type": "code",
   "execution_count": null,
   "id": "d2871ae9",
   "metadata": {},
   "outputs": [],
   "source": []
  }
 ],
 "metadata": {
  "kernelspec": {
   "display_name": "Python 3 (clean)",
   "language": "python",
   "name": "python3_clean"
  },
  "language_info": {
   "codemirror_mode": {
    "name": "ipython",
    "version": 3
   },
   "file_extension": ".py",
   "mimetype": "text/x-python",
   "name": "python",
   "nbconvert_exporter": "python",
   "pygments_lexer": "ipython3",
   "version": "3.9.5"
  }
 },
 "nbformat": 4,
 "nbformat_minor": 5
}
